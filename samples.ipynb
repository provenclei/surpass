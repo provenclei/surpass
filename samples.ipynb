{
 "cells": [
  {
   "cell_type": "markdown",
   "id": "fc24d31b",
   "metadata": {},
   "source": [
    "### 魔法方法\n",
    "\n",
    "共同点： 都是用来输出一个对象\n",
    "\n",
    "区别：\n",
    "\n",
    "__str__ 的目标是可读的，__str__()并不预期返回一个有效的 Python 表达式，但可以使用更方便或更准确的描述信息。\n",
    "\n",
    "__repr__ 的目标是明确的，所返回的字符串应该准确、无歧义，并且尽可能表达出如何 用代码创建出这个被打印的对象。\n",
    "\n",
    "容器的 __str__ 方法的使用包含对象的 __repr__"
   ]
  },
  {
   "cell_type": "code",
   "execution_count": 75,
   "id": "59b08e96",
   "metadata": {},
   "outputs": [
    {
     "data": {
      "text/plain": [
       "('1', \"'1'\")"
      ]
     },
     "execution_count": 75,
     "metadata": {},
     "output_type": "execute_result"
    }
   ],
   "source": [
    "a = '1'\n",
    "a.__str__(), a.__repr__()"
   ]
  },
  {
   "cell_type": "code",
   "execution_count": 72,
   "id": "d1c974f0",
   "metadata": {},
   "outputs": [],
   "source": [
    "class Person(object):\n",
    "    def __init__(self, name, gender):\n",
    "        self.name = name\n",
    "        self.gender = gender\n",
    "    \n",
    "    def __repr__(self):\n",
    "        return f'name: {self.name}, gender{self.gender}'\n",
    "    \n",
    "    def __call__(self):\n",
    "        return \"__call__:\" + self.__repr__()"
   ]
  },
  {
   "cell_type": "code",
   "execution_count": 73,
   "id": "7c2a24a9",
   "metadata": {},
   "outputs": [
    {
     "name": "stdout",
     "output_type": "stream",
     "text": [
      "name: zs, genderf\n",
      "__call__:name: zs, genderf\n"
     ]
    }
   ],
   "source": [
    "p = Person('zs', 'f')\n",
    "print(p)\n",
    "print(p())"
   ]
  },
  {
   "cell_type": "code",
   "execution_count": null,
   "id": "b692bae3",
   "metadata": {},
   "outputs": [],
   "source": []
  },
  {
   "cell_type": "markdown",
   "id": "f98d8007",
   "metadata": {},
   "source": [
    "### Flask"
   ]
  },
  {
   "cell_type": "code",
   "execution_count": null,
   "id": "c30cfe0f",
   "metadata": {},
   "outputs": [],
   "source": [
    "@app.route(\"/\", methods=['POST'])\n",
    "def ner_from_model():\n",
    "    text = json.loads(request.get_data())\n",
    "    print('----------------', text, type(text))"
   ]
  },
  {
   "cell_type": "markdown",
   "id": "351cb346",
   "metadata": {},
   "source": [
    "### Logger"
   ]
  },
  {
   "cell_type": "code",
   "execution_count": 1,
   "id": "b03a8404",
   "metadata": {},
   "outputs": [
    {
     "name": "stderr",
     "output_type": "stream",
     "text": [
      "11/24/2021 10:50:15 - INFO - root -   aaaaa\n"
     ]
    }
   ],
   "source": [
    "from tools.common import init_logger, logger\n",
    "output_dir = './logs'\n",
    "model_type = 'bert'\n",
    "task_name = 'ner'\n",
    "init_logger(log_file=output_dir + '/{}-{}.log'.format(model_type, task_name))\n",
    "logger.info('aaaaa')"
   ]
  },
  {
   "cell_type": "code",
   "execution_count": 3,
   "id": "12438fcd",
   "metadata": {},
   "outputs": [
    {
     "name": "stderr",
     "output_type": "stream",
     "text": [
      "11/24/2021 11:07:21 - INFO - root -   bbb\n"
     ]
    }
   ],
   "source": [
    "init_logger(log_file='./logs/ner.log')\n",
    "logger.info('bbb')"
   ]
  },
  {
   "cell_type": "markdown",
   "id": "b4709120",
   "metadata": {},
   "source": [
    "### Try Except"
   ]
  },
  {
   "cell_type": "code",
   "execution_count": 2,
   "id": "f2dcb778",
   "metadata": {},
   "outputs": [
    {
     "name": "stdout",
     "output_type": "stream",
     "text": [
      "no except!\n",
      "over\n"
     ]
    }
   ],
   "source": [
    "try:\n",
    "#     1/0\n",
    "#     assert 0==2, '1!=2'\n",
    "    x = 1\n",
    "except ZeroDivisionError:\n",
    "    print('aa')\n",
    "except Exception as e:\n",
    "    print('error:', e)\n",
    "else:\n",
    "    # 无异常走这里\n",
    "    print('no except!')\n",
    "finally:\n",
    "    # 有无异常均走这里\n",
    "    print('over')"
   ]
  },
  {
   "cell_type": "markdown",
   "id": "1e33c691",
   "metadata": {},
   "source": [
    "### CallBack\n",
    "\n",
    "回调函数就是一个通过函数指针调用的函数。如果你把函数的指针（地址）作为参数传递给另一个函数，当这个指针被用来调用其所指向的函数时，我们就说这是回调函数。回调函数不是由该函数的实现方直接调用，而是在特定的事件或条件发生时由另外的一方调用的，用于对该事件或条件进行响应。\n",
    "\n",
    "简单地说就是函数参与传递的过程。\n",
    "\n",
    "https://blog.csdn.net/yushuaigee/article/details/86313697\n",
    "\n",
    "https://www.cnblogs.com/-wenli/p/10970136.html\n",
    "\n",
    "使用场景：\n",
    "\n",
    "在购物平台点击付款时，会通过回调函数，进入登陆页面，确定登陆后进行支付操作。\n",
    "\n",
    "回调函数还可以进行异步调用，即非阻塞调用，通常用在多线程或者多进程中\n",
    "\n",
    "为什么叫回调函数？\n",
    "\n",
    "回调函数通常和应用处于同一抽象层（因为传入什么样的回调函数是在应用级别决定的）。而回调就成了一个高层调用底层，底层再回过头来调用高层的过程。"
   ]
  },
  {
   "cell_type": "markdown",
   "id": "87e568db",
   "metadata": {},
   "source": [
    "### 闭包\n",
    "\n",
    "在函数中再嵌套一个函数，并且引用外部函数的变量，这就是一个闭包了。\n",
    "\n",
    "http://c.biancheng.net/view/5335.html\n",
    "\n",
    "https://blog.csdn.net/sc_lilei/article/details/80464645\n",
    "\n",
    "https://www.zhihu.com/question/34365468\n",
    "\n",
    "闭包的特点：\n",
    "\n",
    "1. 内部函数引用外部变量 \n",
    "\n",
    "    若主函数内的闭包不引用外部变量，就不存在闭包，主函数的_closure__属性永远为None。\n",
    "\n",
    "2. 外部函数返回内部函数的引用\n",
    "\n",
    "    延长了外部函数的生命周期，使外部函数变量与内部函数绑定\n",
    "\n",
    "    若主函数没有return子函数，就不存在闭包，主函数不存在_closure__属性。\n",
    "\n",
    "闭包有什么用？\n",
    "\n",
    "1. 工厂模式，提高运行效率\n",
    "    ```python\n",
    "    def outer(x):\n",
    "        # 耗时操作 例如模型加载，实例化（工厂）等\n",
    "        def inner(y):\n",
    "            # 正常操作\n",
    "            func(x)\n",
    "        return inner\n",
    "    ```\n",
    "2. 闭包避免使用了全局变量，闭包允许将某些数据和函数关联起来，这一点很像类。在面向对象过程中，我们将定义了一些属性，并将它们与一些方法关联起来。如果要定义只用一个方法的类，可以采用闭包的方法实现。另外，闭包在装饰器中也很重要。\n",
    "3. 有些函数只写一次，别的地方不用，那就用闭包。\n",
    "4. 装饰器\n",
    "5. 单例\n"
   ]
  },
  {
   "cell_type": "code",
   "execution_count": 10,
   "id": "7ba2f2d3",
   "metadata": {},
   "outputs": [
    {
     "data": {
      "text/plain": [
       "(5, 2)"
      ]
     },
     "execution_count": 10,
     "metadata": {},
     "output_type": "execute_result"
    }
   ],
   "source": [
    "def outer(x):\n",
    "    def inner(y):\n",
    "        return x + y\n",
    "#     返回的是函数\n",
    "    return inner\n",
    "\n",
    "inn = outer(2)\n",
    "inn(3), outer(1)(1)"
   ]
  },
  {
   "cell_type": "code",
   "execution_count": 18,
   "id": "2eb3b2b3",
   "metadata": {},
   "outputs": [
    {
     "name": "stdout",
     "output_type": "stream",
     "text": [
      "before: 1\n",
      "after: 2\n"
     ]
    }
   ],
   "source": [
    "def outer(x):\n",
    "    a = 1\n",
    "    def inner(y):\n",
    "        # 修改外部变量需要使用关键字 nonlocal\n",
    "        nonlocal a\n",
    "        a += 1\n",
    "        return x + y\n",
    "    print('before:', a)\n",
    "    inner(2)\n",
    "    print('after:', a)\n",
    "\n",
    "outer(1)"
   ]
  },
  {
   "cell_type": "code",
   "execution_count": 20,
   "id": "4d4e3df2",
   "metadata": {},
   "outputs": [
    {
     "name": "stdout",
     "output_type": "stream",
     "text": [
      "11\n",
      "14\n"
     ]
    }
   ],
   "source": [
    "def outer(x):\n",
    "    def inner(y):\n",
    "        nonlocal x\n",
    "        x+=y\n",
    "        return x\n",
    "    return inner\n",
    "\n",
    "a = outer(10)\n",
    "print(a(1))\n",
    "print(a(3))"
   ]
  },
  {
   "cell_type": "code",
   "execution_count": 27,
   "id": "7c459bb4",
   "metadata": {},
   "outputs": [
    {
     "name": "stdout",
     "output_type": "stream",
     "text": [
      "(<cell at 0x7ffdb93dcaf0: int object at 0x104401980>,)\n",
      "2\n",
      "(<cell at 0x7ffdb93dcbe0: int object at 0x1044019a0>,)\n",
      "4\n",
      "8\n"
     ]
    }
   ],
   "source": [
    "# 应用1：计算一个数的 n 次幂\n",
    "#闭包函数，其中 exponent 称为自由变量\n",
    "def nth_power(exponent):\n",
    "    def exponent_of(base):\n",
    "        return base ** exponent\n",
    "    return exponent_of # 返回值是 exponent_of 函数\n",
    "square = nth_power(2) # 计算一个数的平方\n",
    "cube = nth_power(3) # 计算一个数的立方\n",
    "\n",
    "# 闭包比普通的函数多了一个 __closure__ 属性，该属性记录着自由变量的地址。当闭包被调用时，系统就会根据该地址找到对应的自由变量，完成整体的函数调用。\n",
    "print(square.__closure__)\n",
    "\n",
    "for i in square.__closure__: #打印引用的外部变量值\n",
    "    print(i.cell_contents)\n",
    "    \n",
    "print(cube.__closure__)\n",
    "\n",
    "print(square(2))  # 计算 2 的平方\n",
    "print(cube(2)) # 计算 2 的立方"
   ]
  },
  {
   "cell_type": "code",
   "execution_count": 30,
   "id": "524c3d4d",
   "metadata": {},
   "outputs": [
    {
     "name": "stderr",
     "output_type": "stream",
     "text": [
      "2021-11-26 15:51:21 [project_1] DEBUG  this is a debug info\n",
      "2021-11-26 15:51:21 [project_1] WARNING  this is a warning info\n",
      "2021-11-26 15:51:21 [project_1] ERROR  this is a error info\n",
      "2021-11-26 15:51:21 [project_2] DEBUG  this is a debug info\n",
      "2021-11-26 15:51:21 [project_2] WARNING  this is a warning info\n",
      "2021-11-26 15:51:21 [project_2] ERROR  this is a critical info\n"
     ]
    }
   ],
   "source": [
    "# 应用2: 闭包实现快速给不同项目记录日志\n",
    "import logging\n",
    "\n",
    "def log_header(logger_name):\n",
    "    logging.basicConfig(level=logging.DEBUG, format='%(asctime)s [%(name)s] %(levelname)s  %(message)s',\n",
    "                        datefmt='%Y-%m-%d %H:%M:%S')\n",
    "    logger = logging.getLogger(logger_name)\n",
    " \n",
    "    def _logging(something, level):\n",
    "        if level == 'debug':\n",
    "            logger.debug(something)\n",
    "        elif level == 'warning':\n",
    "            logger.warning(something)\n",
    "        elif level == 'error':\n",
    "            logger.error(something)\n",
    "        else:\n",
    "            raise Exception(\"I dont know what you want to do?\" )\n",
    "    return _logging\n",
    "\n",
    "project_1_logging = log_header('project_1')\n",
    " \n",
    "project_2_logging = log_header('project_2')\n",
    " \n",
    "def project_1():\n",
    " \n",
    "    #do something\n",
    "    project_1_logging('this is a debug info', 'debug')\n",
    "    #do something\n",
    "    project_1_logging('this is a warning info', 'warning')\n",
    "    # do something\n",
    "    project_1_logging('this is a error info', 'error')\n",
    "\n",
    "def project_2():\n",
    " \n",
    "    # do something\n",
    "    project_2_logging('this is a debug info','debug')\n",
    "    # do something\n",
    "    project_2_logging('this is a warning info','warning')\n",
    "    # do something\n",
    "    project_2_logging('this is a critical info','error')\n",
    "\n",
    "project_1()\n",
    "project_2()"
   ]
  },
  {
   "cell_type": "markdown",
   "id": "f8a7f1c0",
   "metadata": {},
   "source": [
    "### 装饰器\n",
    "\n",
    "装饰器就是一个闭包，装饰器是闭包的一种应用。\n",
    "\n",
    "什么是装饰器呢，简言之，python装饰器就是用于拓展原来函数功能的一种函数，这个函数的特殊之处在于它的返回值也是一个函数，使用python装饰器的好处就是在不用更改原函数的代码前提下给函数增加新的功能。使用时，在需要的函数前加上@demo即可。\n",
    "\n",
    "设计模式：\n",
    "https://www.cnblogs.com/ppap/p/11103324.html"
   ]
  },
  {
   "cell_type": "code",
   "execution_count": 32,
   "id": "d90547b9",
   "metadata": {},
   "outputs": [
    {
     "name": "stdout",
     "output_type": "stream",
     "text": [
      "[DEBUG]: enter hello()\n",
      "hello\n"
     ]
    }
   ],
   "source": [
    "def debug(func):\n",
    "    def wrapper():\n",
    "        print(\"[DEBUG]: enter {}()\".format(func.__name__))\n",
    "        return func()\n",
    "    return wrapper\n",
    "\n",
    "@debug\n",
    "def hello():\n",
    "    print(\"hello\")\n",
    "    \n",
    "hello()"
   ]
  },
  {
   "cell_type": "code",
   "execution_count": 48,
   "id": "d0aeb646",
   "metadata": {},
   "outputs": [
    {
     "name": "stdout",
     "output_type": "stream",
     "text": [
      "[DEBUG]: enter hello(), tl\n",
      "hello\n"
     ]
    }
   ],
   "source": [
    "# 带参数的装饰器\n",
    "def debug(name):\n",
    "    def wrapper(func):\n",
    "        def innerwapper(*args, **kwargs):\n",
    "            print(\"[DEBUG]: enter {}(), {}\".format(func.__name__, name))\n",
    "            return func(*args, **kwargs)\n",
    "        return innerwapper\n",
    "    return wrapper\n",
    "\n",
    "@debug(name='tl')\n",
    "def hello():\n",
    "    print(\"hello\")\n",
    "    \n",
    "hello()"
   ]
  },
  {
   "cell_type": "code",
   "execution_count": 38,
   "id": "0abf2d24",
   "metadata": {},
   "outputs": [
    {
     "name": "stdout",
     "output_type": "stream",
     "text": [
      "[INFO]: enter hello()\n",
      "hello, good morning\n"
     ]
    }
   ],
   "source": [
    "# 带参数的装饰器\n",
    "def logging(level):\n",
    "    def outwrapper(func):\n",
    "        def wrapper(*args, **kwargs):\n",
    "            print(\"[{0}]: enter {1}()\".format(level, func.__name__))\n",
    "            return func(*args, **kwargs)\n",
    "        return wrapper\n",
    "    return outwrapper\n",
    "\n",
    "@logging(level=\"INFO\")\n",
    "def hello(a, b, c):\n",
    "    print(a, b, c)\n",
    "\n",
    "hello(\"hello,\",\"good\",\"morning\")"
   ]
  },
  {
   "cell_type": "code",
   "execution_count": 76,
   "id": "3bd0dce1",
   "metadata": {},
   "outputs": [
    {
     "name": "stdout",
     "output_type": "stream",
     "text": [
      "[DEBUG]: enter hello()\n",
      "hello, good morning\n"
     ]
    }
   ],
   "source": [
    "# 类装饰器: 实质是使用了类方法中的call魔法方法来实现类的直接调用。\n",
    "class logging(object):\n",
    "    def __init__(self, func):\n",
    "        self.func = func\n",
    "\n",
    "    def __call__(self, *args, **kwargs):\n",
    "        print(\"[DEBUG]: enter {}()\".format(self.func.__name__))\n",
    "        return self.func(*args, **kwargs)\n",
    "\n",
    "@logging\n",
    "def hello(a, b, c):\n",
    "    print(a, b, c)\n",
    "\n",
    "hello(\"hello,\",\"good\",\"morning\")"
   ]
  },
  {
   "cell_type": "code",
   "execution_count": 77,
   "id": "f81919ab",
   "metadata": {},
   "outputs": [
    {
     "name": "stdout",
     "output_type": "stream",
     "text": [
      "[TEST]: enter hello()\n",
      "hello, good morning\n"
     ]
    }
   ],
   "source": [
    "# 带参数的类装饰器\n",
    "class logging(object):\n",
    "    def __init__(self, level):\n",
    "        self.level = level\n",
    "\n",
    "    def __call__(self, func):\n",
    "        def wrapper(*args, **kwargs):\n",
    "            print(\"[{0}]: enter {1}()\".format(self.level, func.__name__))\n",
    "            return func(*args, **kwargs)\n",
    "        return wrapper\n",
    "\n",
    "@logging(level=\"TEST\")\n",
    "def hello(a, b, c):\n",
    "    print(a, b, c)\n",
    "\n",
    "hello(\"hello,\",\"good\",\"morning\")"
   ]
  },
  {
   "cell_type": "code",
   "execution_count": null,
   "id": "d0a8e86b",
   "metadata": {},
   "outputs": [],
   "source": []
  },
  {
   "cell_type": "markdown",
   "id": "7d420e4c",
   "metadata": {},
   "source": [
    "### yield\n",
    "\n",
    "构建生成器，常伴随着装修设计模型使用，俗称装饰器。"
   ]
  },
  {
   "cell_type": "code",
   "execution_count": 4,
   "id": "98403b33",
   "metadata": {},
   "outputs": [
    {
     "name": "stdout",
     "output_type": "stream",
     "text": [
      "0 ,\n",
      "i= 0\n",
      "2 ,\n",
      "i= 1\n",
      "4 ,\n",
      "i= 2\n",
      "6 ,\n",
      "i= 3\n",
      "8 ,\n",
      "i= 4\n",
      "end\n"
     ]
    }
   ],
   "source": [
    "def yield_test(n):  \n",
    "    for i in range(n):  \n",
    "        # 这里对i进行装修\n",
    "        yield call(i)  \n",
    "        print(\"i=\",i)  \n",
    "  \n",
    "    print(\"end\")  \n",
    "\n",
    "def call(i):  \n",
    "    return i*2  \n",
    "\n",
    "for i in yield_test(5):  \n",
    "    print(i,\",\")"
   ]
  },
  {
   "cell_type": "code",
   "execution_count": null,
   "id": "1750be8a",
   "metadata": {},
   "outputs": [],
   "source": []
  },
  {
   "cell_type": "code",
   "execution_count": null,
   "id": "2093ddfc",
   "metadata": {},
   "outputs": [],
   "source": []
  },
  {
   "cell_type": "code",
   "execution_count": null,
   "id": "f08b26af",
   "metadata": {},
   "outputs": [],
   "source": []
  },
  {
   "cell_type": "code",
   "execution_count": 9,
   "id": "a726cccf",
   "metadata": {},
   "outputs": [
    {
     "data": {
      "text/plain": [
       "69.8"
      ]
     },
     "execution_count": 9,
     "metadata": {},
     "output_type": "execute_result"
    }
   ],
   "source": [
    "x = 200\n",
    "y = 0.3*x + 0.059*x - 2\n",
    "y"
   ]
  },
  {
   "cell_type": "code",
   "execution_count": 6,
   "id": "b8b09d10",
   "metadata": {},
   "outputs": [
    {
     "data": {
      "text/plain": [
       "2170000"
      ]
     },
     "execution_count": 6,
     "metadata": {},
     "output_type": "execute_result"
    }
   ],
   "source": [
    "155*14000"
   ]
  },
  {
   "cell_type": "code",
   "execution_count": null,
   "id": "8d5fc4e2",
   "metadata": {},
   "outputs": [],
   "source": []
  },
  {
   "cell_type": "code",
   "execution_count": null,
   "id": "44e8467d",
   "metadata": {},
   "outputs": [],
   "source": []
  },
  {
   "cell_type": "code",
   "execution_count": null,
   "id": "1cb4fd9b",
   "metadata": {},
   "outputs": [],
   "source": []
  },
  {
   "cell_type": "code",
   "execution_count": null,
   "id": "98478027",
   "metadata": {},
   "outputs": [],
   "source": []
  },
  {
   "cell_type": "code",
   "execution_count": null,
   "id": "d381189b",
   "metadata": {},
   "outputs": [],
   "source": []
  }
 ],
 "metadata": {
  "kernelspec": {
   "display_name": "Python 3",
   "language": "python",
   "name": "python3"
  },
  "language_info": {
   "codemirror_mode": {
    "name": "ipython",
    "version": 3
   },
   "file_extension": ".py",
   "mimetype": "text/x-python",
   "name": "python",
   "nbconvert_exporter": "python",
   "pygments_lexer": "ipython3",
   "version": "3.8.8"
  }
 },
 "nbformat": 4,
 "nbformat_minor": 5
}
