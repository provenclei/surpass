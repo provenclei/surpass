{
 "cells": [
  {
   "cell_type": "markdown",
   "id": "f98d8007",
   "metadata": {},
   "source": [
    "### Flask"
   ]
  },
  {
   "cell_type": "code",
   "execution_count": null,
   "id": "c30cfe0f",
   "metadata": {},
   "outputs": [],
   "source": [
    "@app.route(\"/\", methods=['POST'])\n",
    "def ner_from_model():\n",
    "    text = json.loads(request.get_data())\n",
    "    print('----------------', text, type(text))"
   ]
  },
  {
   "cell_type": "markdown",
   "id": "351cb346",
   "metadata": {},
   "source": [
    "### Logger"
   ]
  },
  {
   "cell_type": "code",
   "execution_count": 1,
   "id": "b03a8404",
   "metadata": {},
   "outputs": [
    {
     "name": "stderr",
     "output_type": "stream",
     "text": [
      "11/24/2021 10:50:15 - INFO - root -   aaaaa\n"
     ]
    }
   ],
   "source": [
    "from tools.common import init_logger, logger\n",
    "output_dir = './logs'\n",
    "model_type = 'bert'\n",
    "task_name = 'ner'\n",
    "init_logger(log_file=output_dir + '/{}-{}.log'.format(model_type, task_name))\n",
    "logger.info('aaaaa')"
   ]
  },
  {
   "cell_type": "code",
   "execution_count": 3,
   "id": "12438fcd",
   "metadata": {},
   "outputs": [
    {
     "name": "stderr",
     "output_type": "stream",
     "text": [
      "11/24/2021 11:07:21 - INFO - root -   bbb\n"
     ]
    }
   ],
   "source": [
    "init_logger(log_file='./logs/ner.log')\n",
    "logger.info('bbb')"
   ]
  },
  {
   "cell_type": "markdown",
   "id": "b0e4e749",
   "metadata": {},
   "source": [
    "### Try Except"
   ]
  },
  {
   "cell_type": "code",
   "execution_count": 2,
   "id": "f2dcb778",
   "metadata": {},
   "outputs": [
    {
     "name": "stdout",
     "output_type": "stream",
     "text": [
      "no except!\n",
      "over\n"
     ]
    }
   ],
   "source": [
    "try:\n",
    "#     1/0\n",
    "#     assert 0==2, '1!=2'\n",
    "    x = 1\n",
    "except ZeroDivisionError:\n",
    "    print('aa')\n",
    "except Exception as e:\n",
    "    print('error:', e)\n",
    "else:\n",
    "    # 无异常走这里\n",
    "    print('no except!')\n",
    "finally:\n",
    "    # 有无异常均走这里\n",
    "    print('over')"
   ]
  },
  {
   "cell_type": "markdown",
   "id": "1e33c691",
   "metadata": {},
   "source": [
    "### CallBack\n",
    "\n",
    "回调函数就是一个通过函数指针调用的函数。如果你把函数的指针（地址）作为参数传递给另一个函数，当这个指针被用来调用其所指向的函数时，我们就说这是回调函数。回调函数不是由该函数的实现方直接调用，而是在特定的事件或条件发生时由另外的一方调用的，用于对该事件或条件进行响应。\n",
    "\n",
    "https://blog.csdn.net/yushuaigee/article/details/86313697\n",
    "https://www.cnblogs.com/-wenli/p/10970136.html\n",
    "\n",
    "使用场景：\n",
    "\n",
    "在购物平台点击付款时，会通过回调函数，进入登陆页面，确定登陆后进行支付操作。\n",
    "\n",
    "回调函数还可以进行异步调用，即非阻塞调用，通常用在多线程或者多进程中\n",
    "\n",
    "为什么叫回调函数？\n",
    "\n",
    "回调函数通常和应用处于同一抽象层（因为传入什么样的回调函数是在应用级别决定的）。而回调就成了一个高层调用底层，底层再回过头来调用高层的过程。"
   ]
  },
  {
   "cell_type": "code",
   "execution_count": null,
   "id": "ecd4adbe",
   "metadata": {},
   "outputs": [],
   "source": []
  },
  {
   "cell_type": "code",
   "execution_count": null,
   "id": "857cc910",
   "metadata": {},
   "outputs": [],
   "source": []
  },
  {
   "cell_type": "code",
   "execution_count": null,
   "id": "97da8b99",
   "metadata": {},
   "outputs": [],
   "source": []
  },
  {
   "cell_type": "code",
   "execution_count": null,
   "id": "40bc2193",
   "metadata": {},
   "outputs": [],
   "source": []
  },
  {
   "cell_type": "code",
   "execution_count": null,
   "id": "074426e0",
   "metadata": {},
   "outputs": [],
   "source": []
  },
  {
   "cell_type": "code",
   "execution_count": 9,
   "id": "a726cccf",
   "metadata": {},
   "outputs": [
    {
     "data": {
      "text/plain": [
       "69.8"
      ]
     },
     "execution_count": 9,
     "metadata": {},
     "output_type": "execute_result"
    }
   ],
   "source": [
    "x = 200\n",
    "y = 0.3*x + 0.059*x - 2\n",
    "y"
   ]
  },
  {
   "cell_type": "code",
   "execution_count": 6,
   "id": "b8b09d10",
   "metadata": {},
   "outputs": [
    {
     "data": {
      "text/plain": [
       "2170000"
      ]
     },
     "execution_count": 6,
     "metadata": {},
     "output_type": "execute_result"
    }
   ],
   "source": [
    "155*14000"
   ]
  },
  {
   "cell_type": "code",
   "execution_count": null,
   "id": "8d5fc4e2",
   "metadata": {},
   "outputs": [],
   "source": []
  },
  {
   "cell_type": "code",
   "execution_count": null,
   "id": "44e8467d",
   "metadata": {},
   "outputs": [],
   "source": []
  },
  {
   "cell_type": "code",
   "execution_count": null,
   "id": "1cb4fd9b",
   "metadata": {},
   "outputs": [],
   "source": []
  },
  {
   "cell_type": "code",
   "execution_count": null,
   "id": "98478027",
   "metadata": {},
   "outputs": [],
   "source": []
  },
  {
   "cell_type": "code",
   "execution_count": null,
   "id": "d381189b",
   "metadata": {},
   "outputs": [],
   "source": []
  }
 ],
 "metadata": {
  "kernelspec": {
   "display_name": "Python 3",
   "language": "python",
   "name": "python3"
  },
  "language_info": {
   "codemirror_mode": {
    "name": "ipython",
    "version": 3
   },
   "file_extension": ".py",
   "mimetype": "text/x-python",
   "name": "python",
   "nbconvert_exporter": "python",
   "pygments_lexer": "ipython3",
   "version": "3.8.8"
  }
 },
 "nbformat": 4,
 "nbformat_minor": 5
}
